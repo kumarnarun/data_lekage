{
 "cells": [
  {
   "cell_type": "markdown",
   "id": "a66e7c95",
   "metadata": {},
   "source": [
    "## Given an n x m matrix, write a function that returns its elements in spiral order."
   ]
  },
  {
   "cell_type": "markdown",
   "id": "b0b031e3",
   "metadata": {},
   "source": [
    " I need to solve a problem that is a matrix n*m and get the out put of like spiral in alist"
   ]
  },
  {
   "cell_type": "code",
   "execution_count": 2,
   "id": "d22f61dd",
   "metadata": {},
   "outputs": [],
   "source": [
    "matrix1 = [\n",
    "    [1, 2, 3],\n",
    "    [4, 5, 6],\n",
    "    [7, 8, 9]\n",
    "]\n",
    "##assert spiral_order(matrix1) == [1, 2, 3, 6, 9, 8, 7, 4, 5]"
   ]
  },
  {
   "cell_type": "markdown",
   "id": "459abfd5",
   "metadata": {},
   "source": [
    "a spiral a logic for getting spiral numbers .so what is  a spiral number. How can we get the list of lists into a spiral order. whats the logic behind it."
   ]
  },
  {
   "cell_type": "code",
   "execution_count": 10,
   "id": "7fb5ca5c",
   "metadata": {},
   "outputs": [],
   "source": [
    "matrix4 = [\n",
    "    [1, 2],\n",
    "    [3, 4],\n",
    "    [5, 6]\n",
    "]\n",
    "##assert spiral_order(matrix4) == [1, 2, 4, 6, 5, 3]"
   ]
  },
  {
   "cell_type": "code",
   "execution_count": 11,
   "id": "a7322e64",
   "metadata": {},
   "outputs": [],
   "source": [
    "matrix2 = [\n",
    "    [1, 2, 3, 4],\n",
    "    [5, 6, 7, 8],\n",
    "    [9, 10, 11, 12],\n",
    "    [13, 14, 15, 16]\n",
    "]\n",
    "##spiral_order(matrix2) == [1, 2, 3, 4, 8, 12, 16, 15, 14, 13, 9, 5, 6, 7, 11, 10]"
   ]
  },
  {
   "cell_type": "markdown",
   "id": "b5e663d4",
   "metadata": {},
   "source": [
    " 1st len(list) digits in 1st list\n",
    " last digit of next n list\n",
    " In last list reverse of remaining numbers\n",
    " In the middle n list 1st numbers in reverse order in the sense the the last list number comes first\n",
    " In the middle list the remaining numbers in the order of increasing order "
   ]
  },
  {
   "cell_type": "code",
   "execution_count": 13,
   "id": "94a0ed99",
   "metadata": {},
   "outputs": [],
   "source": [
    "# if len(matrix2) == 0:\n",
    "#     return []\n",
    "# if len(matrix2) == 1:\n",
    "#     return [matrix2[0]]"
   ]
  },
  {
   "cell_type": "code",
   "execution_count": 15,
   "id": "7537f5e1",
   "metadata": {},
   "outputs": [],
   "source": [
    "a =[]\n",
    "for i in matrix2[0]:\n",
    "    a.append(i)"
   ]
  },
  {
   "cell_type": "code",
   "execution_count": 16,
   "id": "1a5d2a1f",
   "metadata": {},
   "outputs": [
    {
     "data": {
      "text/plain": [
       "[1, 2, 3, 4]"
      ]
     },
     "execution_count": 16,
     "metadata": {},
     "output_type": "execute_result"
    }
   ],
   "source": [
    "a"
   ]
  },
  {
   "cell_type": "code",
   "execution_count": null,
   "id": "192877b1",
   "metadata": {},
   "outputs": [],
   "source": [
    "a[1:len(a)]"
   ]
  },
  {
   "cell_type": "code",
   "execution_count": 31,
   "id": "9445de97",
   "metadata": {},
   "outputs": [],
   "source": [
    "b = []"
   ]
  },
  {
   "cell_type": "code",
   "execution_count": 34,
   "id": "6cb6e39c",
   "metadata": {},
   "outputs": [],
   "source": [
    "for num in matrix2:\n",
    "    if num == matrix2[0]:\n",
    "        for i in matrix2[0]:\n",
    "            b.append(i)\n",
    "    else:\n",
    "        b.append(num[-1])\n",
    "        b.append()\n",
    "        \n",
    "        "
   ]
  },
  {
   "cell_type": "code",
   "execution_count": 35,
   "id": "999721a7",
   "metadata": {},
   "outputs": [
    {
     "data": {
      "text/plain": [
       "[1, 2, 3, 4, 8, 12, 16]"
      ]
     },
     "execution_count": 35,
     "metadata": {},
     "output_type": "execute_result"
    }
   ],
   "source": [
    "b"
   ]
  },
  {
   "cell_type": "code",
   "execution_count": 25,
   "id": "6470cddd",
   "metadata": {},
   "outputs": [
    {
     "data": {
      "text/plain": [
       "4"
      ]
     },
     "execution_count": 25,
     "metadata": {},
     "output_type": "execute_result"
    }
   ],
   "source": [
    "b[-1]"
   ]
  },
  {
   "cell_type": "code",
   "execution_count": 8,
   "id": "068626ce",
   "metadata": {
    "scrolled": false
   },
   "outputs": [
    {
     "data": {
      "text/plain": [
       "3"
      ]
     },
     "execution_count": 8,
     "metadata": {},
     "output_type": "execute_result"
    }
   ],
   "source": [
    "len(matrix1[0])"
   ]
  },
  {
   "cell_type": "code",
   "execution_count": 9,
   "id": "c86bf28a",
   "metadata": {},
   "outputs": [
    {
     "data": {
      "text/plain": [
       "[[1, 2, 3], [4, 5, 6], [7, 8, 9]]"
      ]
     },
     "execution_count": 9,
     "metadata": {},
     "output_type": "execute_result"
    }
   ],
   "source": [
    "matrix1"
   ]
  },
  {
   "cell_type": "code",
   "execution_count": 7,
   "id": "bf684e25",
   "metadata": {},
   "outputs": [
    {
     "name": "stdout",
     "output_type": "stream",
     "text": [
      "1\n",
      "2\n",
      "3\n",
      "4\n",
      "5\n",
      "6\n",
      "7\n",
      "8\n",
      "9\n"
     ]
    }
   ],
   "source": [
    "mu = 0\n",
    "for m in matrix1:\n",
    "    for i in m:\n",
    "        print(i)"
   ]
  }
 ],
 "metadata": {
  "kernelspec": {
   "display_name": "Python 3 (ipykernel)",
   "language": "python",
   "name": "python3"
  },
  "language_info": {
   "codemirror_mode": {
    "name": "ipython",
    "version": 3
   },
   "file_extension": ".py",
   "mimetype": "text/x-python",
   "name": "python",
   "nbconvert_exporter": "python",
   "pygments_lexer": "ipython3",
   "version": "3.9.12"
  }
 },
 "nbformat": 4,
 "nbformat_minor": 5
}
