{
 "cells": [
  {
   "cell_type": "markdown",
   "id": "2207dc6c",
   "metadata": {},
   "source": [
    "## Binary search, Linked list, Complexity"
   ]
  },
  {
   "cell_type": "markdown",
   "id": "b4a22d23",
   "metadata": {},
   "source": [
    "## Alice has some cards with numbers written on them. she arranges the crads in decresing order and lays them out face down ina sequence on a table. she challenges bob to pick out the card containing a given number by turning over as few cards as possible. write a function to help bob lacate a card."
   ]
  },
  {
   "cell_type": "code",
   "execution_count": null,
   "id": "2b1508ea",
   "metadata": {},
   "outputs": [],
   "source": [
    "# think about a problem systematically\n",
    "# envision different inputs,outputs, and edge cases for programs you write\n",
    "# communicate your ideas clearly\n",
    "# convert your thoughts and ideas into working code"
   ]
  },
  {
   "cell_type": "code",
   "execution_count": null,
   "id": "9a5f9e80",
   "metadata": {},
   "outputs": [],
   "source": [
    "# 1.state the problem clearly. Identify the input and output formats\n",
    "# 2.come up with some example inputs and outputs. Try to cover all edge cases\n",
    "# 3.come up with a correct solution for a problem. state it in plain english\n",
    "# 4.Implement the solution and test it using example inputs.fix bugs,if any\n",
    "# 5.Analyse the algorithms complexity and identify inefficiencies, if any\n",
    "# 6.Apply the right technique to overcome the inefficiency. repeat steps 3to6\n",
    "\n",
    "# Applying the right technique is where the knowlege of common data structures\n",
    "# and algorithms comes in handy"
   ]
  },
  {
   "cell_type": "code",
   "execution_count": null,
   "id": "47cc8694",
   "metadata": {},
   "outputs": [],
   "source": [
    "# 1.you will often encounter detailed word problems in coding challenges and\n",
    "# interviews. the first step is to state the problem clearly and precisely in\n",
    "# abstract terms\n",
    "\n",
    "# In this case, for instance, we can represent the sequence of cards as list\n",
    "# of numbers.turning over a specific card is equivalent to accessing\n",
    "# the value of the number at the corresponding position the list"
   ]
  },
  {
   "cell_type": "markdown",
   "id": "8e16fd5d",
   "metadata": {},
   "source": [
    "## problem- write the problem in your own words"
   ]
  },
  {
   "cell_type": "code",
   "execution_count": null,
   "id": "daa4ba5f",
   "metadata": {},
   "outputs": [],
   "source": [
    "# we need to write a program to find the position of a given number in a \n",
    "# list of numbers arranged in decreasing order. we laso need to minimize \n",
    "# the number of times we access elements from the list\n"
   ]
  },
  {
   "cell_type": "markdown",
   "id": "52e48525",
   "metadata": {},
   "source": [
    "## Input"
   ]
  },
  {
   "cell_type": "code",
   "execution_count": null,
   "id": "5497445a",
   "metadata": {},
   "outputs": [],
   "source": [
    "# 1.cards: A list of numbers sorted in decreasing order. E.g.[13,11,10,7,4,3,1,0]\n",
    "# 2.query: A number, whose position in the array is to be determined. e.g. 7    \n",
    "    "
   ]
  },
  {
   "cell_type": "markdown",
   "id": "be42ab90",
   "metadata": {},
   "source": [
    "## Output"
   ]
  },
  {
   "cell_type": "code",
   "execution_count": null,
   "id": "5493fda9",
   "metadata": {},
   "outputs": [],
   "source": [
    "# 3. position: The position of query in the list cards.e.g.3 in the above case\n",
    "#    (counting from 0) "
   ]
  },
  {
   "cell_type": "markdown",
   "id": "d6d3b1b3",
   "metadata": {},
   "source": [
    "## Signature function-Structure of a function without any actual code in it"
   ]
  },
  {
   "cell_type": "code",
   "execution_count": 1,
   "id": "36797a40",
   "metadata": {},
   "outputs": [],
   "source": [
    "def locate_card(cards, query):\n",
    "    pass"
   ]
  },
  {
   "cell_type": "markdown",
   "id": "537ec6f1",
   "metadata": {},
   "source": [
    "## Tips"
   ]
  },
  {
   "cell_type": "code",
   "execution_count": 2,
   "id": "5445a2a9",
   "metadata": {},
   "outputs": [],
   "source": [
    "# 1.name your function appropriately and think carefully about the signature\n",
    "# 2.discuss the problem with the interviewer if you are unsure how to frame\n",
    "# it in abstract terms.\n",
    "# 3. use decriptive vriable names, otherwise you may forget what a \n",
    "# varibalerepresents"
   ]
  },
  {
   "cell_type": "markdown",
   "id": "f27b6326",
   "metadata": {},
   "source": [
    "## Step 2."
   ]
  },
  {
   "cell_type": "code",
   "execution_count": null,
   "id": "c8c76922",
   "metadata": {},
   "outputs": [],
   "source": [
    "# before we start implementing our function, it would be useful to \n",
    "# come up with some example inputs and outputs which can use later to test\n",
    "# out problem"
   ]
  },
  {
   "cell_type": "code",
   "execution_count": 6,
   "id": "03ae5441",
   "metadata": {},
   "outputs": [],
   "source": [
    "cards = [13,11,10,7,4,3,1,0]\n",
    "query = 7\n",
    "output = 3"
   ]
  },
  {
   "cell_type": "code",
   "execution_count": 5,
   "id": "d9c4dee1",
   "metadata": {},
   "outputs": [],
   "source": [
    "# we can test our function by passing the inputs into function and comparing\n",
    "# the result with expected output"
   ]
  },
  {
   "cell_type": "code",
   "execution_count": 8,
   "id": "c1a82c47",
   "metadata": {},
   "outputs": [
    {
     "name": "stdout",
     "output_type": "stream",
     "text": [
      "None\n"
     ]
    }
   ],
   "source": [
    "result = locate_card(cards,query)\n",
    "print(result)"
   ]
  },
  {
   "cell_type": "code",
   "execution_count": 9,
   "id": "7538bc83",
   "metadata": {},
   "outputs": [
    {
     "data": {
      "text/plain": [
       "False"
      ]
     },
     "execution_count": 9,
     "metadata": {},
     "output_type": "execute_result"
    }
   ],
   "source": [
    "result == output"
   ]
  },
  {
   "cell_type": "code",
   "execution_count": 10,
   "id": "d8356ece",
   "metadata": {},
   "outputs": [],
   "source": [
    "# we will represent our test cases as dictionaries to make it easier\n",
    "# to test them once we write implement our function. For example, \n",
    "# the above test case can be represented as follows "
   ]
  },
  {
   "cell_type": "code",
   "execution_count": 11,
   "id": "25102e6a",
   "metadata": {},
   "outputs": [],
   "source": [
    "test = {\n",
    "    'input':{\n",
    "        'cards':[13,11,10,7,4,3,1,0],\n",
    "        'query':7\n",
    "    },\n",
    "    'output':3\n",
    "}"
   ]
  },
  {
   "cell_type": "code",
   "execution_count": 12,
   "id": "bca3e0f2",
   "metadata": {},
   "outputs": [
    {
     "data": {
      "text/plain": [
       "False"
      ]
     },
     "execution_count": 12,
     "metadata": {},
     "output_type": "execute_result"
    }
   ],
   "source": [
    "locate_card(**test['input']) == test['output']"
   ]
  },
  {
   "cell_type": "code",
   "execution_count": 13,
   "id": "f94a16bb",
   "metadata": {},
   "outputs": [],
   "source": [
    "# **----Its takes the keys form the dictionary and values are then used as arguments "
   ]
  },
  {
   "cell_type": "markdown",
   "id": "11c6c4ff",
   "metadata": {},
   "source": [
    "## Our function should be able to handle any set of valid inputs we pass into it. Here's a list of some possible variations"
   ]
  },
  {
   "cell_type": "code",
   "execution_count": 14,
   "id": "27453511",
   "metadata": {},
   "outputs": [],
   "source": [
    "# 1.the number query occurs somewhere in the middle of the list cards\n",
    "# 2.query is the first elemnt in cards.\n",
    "# 3.query is the last elemnt in cards\n",
    "# 4.the list cards contains just one elemnt which is query\n",
    "# 5.the list cards does not contain number query\n",
    "# 6.the list cards is empty\n",
    "# 7.the list cards contains repeating numbers\n",
    "# 8.the number query occurs at more than one position in cards\n",
    "# 9.any other variations"
   ]
  },
  {
   "cell_type": "markdown",
   "id": "7f30c25f",
   "metadata": {},
   "source": [
    "## Edge cases"
   ]
  },
  {
   "cell_type": "code",
   "execution_count": 15,
   "id": "f265899f",
   "metadata": {},
   "outputs": [],
   "source": [
    "# its likely that you didn't think of all of the above cases when you read\n",
    "# the problem for first time.some of these(like the empty array or query not\n",
    "#                                         occuring in cards)\n",
    "# are called edge cases, as they represent rare or extreme examples"
   ]
  },
  {
   "cell_type": "code",
   "execution_count": 16,
   "id": "25f99267",
   "metadata": {},
   "outputs": [],
   "source": [
    "# while edge cases may not occur frequently, your programs should be\n",
    "# able to handle all edge cases, otherwise they may fail in unexpected ways.\n",
    "# lets create some more test cases for variations listed above. we will\n",
    "# store all our test cases in a list for easier testing"
   ]
  },
  {
   "cell_type": "code",
   "execution_count": 17,
   "id": "c8560aad",
   "metadata": {},
   "outputs": [],
   "source": [
    "tests = []"
   ]
  },
  {
   "cell_type": "code",
   "execution_count": 18,
   "id": "aa524bb6",
   "metadata": {},
   "outputs": [],
   "source": [
    "tests.append(test)\n",
    "#query occurs in the middle\n",
    "tests.append({\n",
    "    'input':{\n",
    "        'cards':[13,11,10,7,4,3,1,0],\n",
    "        'query':1\n",
    "    },\n",
    "    'output':6\n",
    "})"
   ]
  },
  {
   "cell_type": "code",
   "execution_count": 19,
   "id": "6244b57f",
   "metadata": {},
   "outputs": [],
   "source": [
    "tests.append({\n",
    "    'input':{\n",
    "        'cards':[4,2,1,-1],\n",
    "        'query':4\n",
    "    },\n",
    "    'output':0\n",
    "})"
   ]
  },
  {
   "cell_type": "code",
   "execution_count": 20,
   "id": "b67f63c6",
   "metadata": {},
   "outputs": [],
   "source": [
    "tests.append({\n",
    "    'input':{\n",
    "        'cards':[3,-1,-9,-127],\n",
    "        'query':-127\n",
    "    },\n",
    "    'output':3\n",
    "})"
   ]
  },
  {
   "cell_type": "code",
   "execution_count": 21,
   "id": "c9177831",
   "metadata": {},
   "outputs": [],
   "source": [
    "tests.append({\n",
    "    'input':{\n",
    "        'cards':[6],\n",
    "        'query':6\n",
    "    },\n",
    "    'output':0\n",
    "})"
   ]
  },
  {
   "cell_type": "code",
   "execution_count": 22,
   "id": "d4649466",
   "metadata": {},
   "outputs": [],
   "source": [
    "# The problem statement does not specify what to do if the list cards \n",
    "# does not contain the number query.\n",
    "\n",
    "# 1.read the problem statement again, carefully.\n",
    "# 2.look through the examples provided with the problem.\n",
    "# 3.ask the interviewer/platform for a clarification\n",
    "# 4.make a reasonable assumption, state it and move forward\n",
    "\n",
    "# we will assume that our function will return -1 in case cards does not\n",
    "# contain query"
   ]
  },
  {
   "cell_type": "code",
   "execution_count": 23,
   "id": "744dbfaa",
   "metadata": {},
   "outputs": [],
   "source": [
    "#cards does not contain query\n",
    "tests.append({\n",
    "    'input':{\n",
    "        'cards':[4,2,1,-1],\n",
    "        'query':7\n",
    "    },\n",
    "    'output':-1\n",
    "})"
   ]
  },
  {
   "cell_type": "code",
   "execution_count": 24,
   "id": "5ca89954",
   "metadata": {},
   "outputs": [],
   "source": [
    "tests.append({\n",
    "    'input':{\n",
    "        'cards':[],\n",
    "        'query':7\n",
    "    },\n",
    "    'output':-1\n",
    "})"
   ]
  },
  {
   "cell_type": "code",
   "execution_count": 25,
   "id": "b98f6c93",
   "metadata": {},
   "outputs": [],
   "source": [
    "tests.append({\n",
    "    'input':{\n",
    "        'cards':[4,2,1,-1,4,4,4,4,2,2,2,5,2,3,3,5,3],\n",
    "        'query':1\n",
    "    },\n",
    "    'output':2\n",
    "})"
   ]
  },
  {
   "cell_type": "code",
   "execution_count": 26,
   "id": "c873dda1",
   "metadata": {},
   "outputs": [],
   "source": [
    "tests.append({\n",
    "    'input':{\n",
    "        'cards':[8,8,6,6,6,6,6,3,2,2,2,2,0,0,0,],\n",
    "        'query':6\n",
    "    },\n",
    "    'output':2\n",
    "})"
   ]
  },
  {
   "cell_type": "markdown",
   "id": "8717ea7b",
   "metadata": {},
   "source": [
    "## Atleast cover 3 or 4 edge cases.5 is a good number"
   ]
  },
  {
   "cell_type": "code",
   "execution_count": 27,
   "id": "8e9681af",
   "metadata": {},
   "outputs": [
    {
     "data": {
      "text/plain": [
       "[{'input': {'cards': [13, 11, 10, 7, 4, 3, 1, 0], 'query': 7}, 'output': 3},\n",
       " {'input': {'cards': [13, 11, 10, 7, 4, 3, 1, 0], 'query': 1}, 'output': 6},\n",
       " {'input': {'cards': [4, 2, 1, -1], 'query': 4}, 'output': 0},\n",
       " {'input': {'cards': [3, -1, -9, -127], 'query': -127}, 'output': 3},\n",
       " {'input': {'cards': [6], 'query': 6}, 'output': 0},\n",
       " {'input': {'cards': [4, 2, 1, -1], 'query': 7}, 'output': -1},\n",
       " {'input': {'cards': [], 'query': 7}, 'output': -1},\n",
       " {'input': {'cards': [4, 2, 1, -1, 4, 4, 4, 4, 2, 2, 2, 5, 2, 3, 3, 5, 3],\n",
       "   'query': 1},\n",
       "  'output': 2},\n",
       " {'input': {'cards': [8, 8, 6, 6, 6, 6, 6, 3, 2, 2, 2, 2, 0, 0, 0],\n",
       "   'query': 6},\n",
       "  'output': 2}]"
      ]
     },
     "execution_count": 27,
     "metadata": {},
     "output_type": "execute_result"
    }
   ],
   "source": [
    "tests"
   ]
  },
  {
   "cell_type": "markdown",
   "id": "67c3c86c",
   "metadata": {},
   "source": [
    "## 3 . Come up with a correct solution for the problem state it in plain english"
   ]
  },
  {
   "cell_type": "code",
   "execution_count": 28,
   "id": "3fb37b54",
   "metadata": {},
   "outputs": [],
   "source": [
    "# our first goal should always be to come up with a correct solution to the\n",
    "# problem, which may necessarily be the most efficient solution.\n",
    "# the simplest or most obvious solutionto the problem which generally involves\n",
    "# checking all posible answers is called the brute force solution"
   ]
  },
  {
   "cell_type": "code",
   "execution_count": 29,
   "id": "4152a7f3",
   "metadata": {},
   "outputs": [],
   "source": [
    "# In this problem, coming up with a correct solution is quite easy: bob can \n",
    "#     simply turn over cards in order one by one, till he find a card with the\n",
    "#     given number on it. Here is how we might implement it:"
   ]
  },
  {
   "cell_type": "code",
   "execution_count": 30,
   "id": "8e139864",
   "metadata": {},
   "outputs": [],
   "source": [
    "# 1. create a variable position with the value 0\n",
    "# 2. check whether the number at index position in card equals query\n",
    "# 3. if it does, position is the answer and can be returned from the function\n",
    "# 4. if not. increment the value of position by 1, and repeat steps 2 to5 \n",
    "# till we reach the lastposition\n",
    "# 5. if the numberwas not found, return -1"
   ]
  },
  {
   "cell_type": "markdown",
   "id": "ad1ddaff",
   "metadata": {},
   "source": [
    "## Linear search algorithm: Congratulations Arun!, I have just written my first algorithm. An algorithm is simply a list of staements which can be converted into code and executed by a computer on different sets of inputs.This particular argorithm is called linear serach, since it involves searching through a list in linear fashion i.e element after element"
   ]
  },
  {
   "cell_type": "markdown",
   "id": "9ade44a5",
   "metadata": {},
   "source": [
    "## Tip"
   ]
  },
  {
   "cell_type": "code",
   "execution_count": 31,
   "id": "d7ff9b7e",
   "metadata": {},
   "outputs": [],
   "source": [
    "# Always try to express(speak or write) the algorithm in your own words \n",
    "# before you start coding.It can be as brief or detailed as you require it to\n",
    "# be.writing is great tool for thinking clearly. its likely that you will\n",
    "# find some parts of the solution difficult to express which suggests that you\n",
    "# are probably unable to think about it clearly.The more clearly you are able\n",
    "# to express your thoughts, the easier it will be for you to turn into code"
   ]
  },
  {
   "cell_type": "code",
   "execution_count": null,
   "id": "514df556",
   "metadata": {},
   "outputs": [],
   "source": []
  },
  {
   "cell_type": "code",
   "execution_count": null,
   "id": "16414510",
   "metadata": {},
   "outputs": [],
   "source": []
  },
  {
   "cell_type": "code",
   "execution_count": null,
   "id": "65a24e8a",
   "metadata": {},
   "outputs": [],
   "source": []
  },
  {
   "cell_type": "code",
   "execution_count": null,
   "id": "1ce5e504",
   "metadata": {},
   "outputs": [],
   "source": []
  }
 ],
 "metadata": {
  "kernelspec": {
   "display_name": "Python 3 (ipykernel)",
   "language": "python",
   "name": "python3"
  },
  "language_info": {
   "codemirror_mode": {
    "name": "ipython",
    "version": 3
   },
   "file_extension": ".py",
   "mimetype": "text/x-python",
   "name": "python",
   "nbconvert_exporter": "python",
   "pygments_lexer": "ipython3",
   "version": "3.9.12"
  }
 },
 "nbformat": 4,
 "nbformat_minor": 5
}
