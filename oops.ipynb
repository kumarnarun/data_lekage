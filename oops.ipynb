{
 "cells": [
  {
   "cell_type": "code",
   "execution_count": 1,
   "id": "f87bf034",
   "metadata": {},
   "outputs": [],
   "source": [
    "class user:\n",
    "    pass"
   ]
  },
  {
   "cell_type": "code",
   "execution_count": 2,
   "id": "dae00b44",
   "metadata": {},
   "outputs": [],
   "source": [
    "user1 = user()"
   ]
  },
  {
   "cell_type": "code",
   "execution_count": 3,
   "id": "7a041ef1",
   "metadata": {},
   "outputs": [
    {
     "data": {
      "text/plain": [
       "type"
      ]
     },
     "execution_count": 3,
     "metadata": {},
     "output_type": "execute_result"
    }
   ],
   "source": [
    "type(user)"
   ]
  },
  {
   "cell_type": "code",
   "execution_count": 4,
   "id": "6c890491",
   "metadata": {},
   "outputs": [
    {
     "data": {
      "text/plain": [
       "__main__.user"
      ]
     },
     "execution_count": 4,
     "metadata": {},
     "output_type": "execute_result"
    }
   ],
   "source": [
    "type(user1)"
   ]
  },
  {
   "cell_type": "code",
   "execution_count": 5,
   "id": "f63e258b",
   "metadata": {},
   "outputs": [
    {
     "data": {
      "text/plain": [
       "<__main__.user at 0x1bbc76b23a0>"
      ]
     },
     "execution_count": 5,
     "metadata": {},
     "output_type": "execute_result"
    }
   ],
   "source": [
    "user1"
   ]
  },
  {
   "cell_type": "code",
   "execution_count": 6,
   "id": "d704f37f",
   "metadata": {},
   "outputs": [],
   "source": [
    "class user:\n",
    "    def __init__(self,username, name, email):\n",
    "        self.username = username\n",
    "        self.name = name\n",
    "        self.email = email\n",
    "        print('user created')"
   ]
  },
  {
   "cell_type": "code",
   "execution_count": 7,
   "id": "8183258f",
   "metadata": {},
   "outputs": [
    {
     "name": "stdout",
     "output_type": "stream",
     "text": [
      "user created\n"
     ]
    }
   ],
   "source": [
    "user2 = user('john', 'arun','arun@gmail.com')"
   ]
  },
  {
   "cell_type": "code",
   "execution_count": 8,
   "id": "a53a00fc",
   "metadata": {},
   "outputs": [
    {
     "data": {
      "text/plain": [
       "<__main__.user at 0x1bbc8f6daf0>"
      ]
     },
     "execution_count": 8,
     "metadata": {},
     "output_type": "execute_result"
    }
   ],
   "source": [
    "user2"
   ]
  },
  {
   "cell_type": "code",
   "execution_count": 9,
   "id": "6dd2b195",
   "metadata": {},
   "outputs": [],
   "source": [
    "class user:\n",
    "    def __init__(self,username, name, email):\n",
    "        self.username = username\n",
    "        self.name = name\n",
    "        self.email = email\n",
    "        print('user created')"
   ]
  },
  {
   "cell_type": "code",
   "execution_count": 18,
   "id": "ffb76844",
   "metadata": {},
   "outputs": [
    {
     "name": "stdout",
     "output_type": "stream",
     "text": [
      "user created\n"
     ]
    }
   ],
   "source": [
    "arun = user('arun','arunkumar','arun@gmail.com')"
   ]
  },
  {
   "cell_type": "code",
   "execution_count": 10,
   "id": "2be5d714",
   "metadata": {},
   "outputs": [],
   "source": [
    "class userdatabase:\n",
    "    def __init__(self):\n",
    "        self.users = []\n",
    "        \n",
    "    def insert(self, user):\n",
    "        i = 0\n",
    "        while i < len(self.users):\n",
    "            \n",
    "            if self.users[i].username > user.username:\n",
    "                break\n",
    "            i +=1\n",
    "        self.users.insert(i, user)\n",
    "        \n",
    "    def find(self, username):\n",
    "        for user in self.users:\n",
    "            if user.username == username:\n",
    "                return user\n",
    "            \n",
    "    def update(self, user):\n",
    "        target = self.find(user.username)\n",
    "        target.name, target.email = user.name, user.email\n",
    "        \n",
    "    def list_all(self):\n",
    "        return self.users\n",
    "        \n",
    "    "
   ]
  },
  {
   "cell_type": "code",
   "execution_count": 11,
   "id": "304977f8",
   "metadata": {},
   "outputs": [],
   "source": [
    "database = userdatabase()"
   ]
  },
  {
   "cell_type": "code",
   "execution_count": 19,
   "id": "e8957b45",
   "metadata": {},
   "outputs": [
    {
     "ename": "AttributeError",
     "evalue": "'str' object has no attribute 'username'",
     "output_type": "error",
     "traceback": [
      "\u001b[1;31m---------------------------------------------------------------------------\u001b[0m",
      "\u001b[1;31mAttributeError\u001b[0m                            Traceback (most recent call last)",
      "Input \u001b[1;32mIn [19]\u001b[0m, in \u001b[0;36m<cell line: 1>\u001b[1;34m()\u001b[0m\n\u001b[1;32m----> 1\u001b[0m \u001b[43mdatabase\u001b[49m\u001b[38;5;241;43m.\u001b[39;49m\u001b[43minsert\u001b[49m\u001b[43m(\u001b[49m\u001b[43marun\u001b[49m\u001b[43m)\u001b[49m\n",
      "Input \u001b[1;32mIn [10]\u001b[0m, in \u001b[0;36muserdatabase.insert\u001b[1;34m(self, user)\u001b[0m\n\u001b[0;32m      6\u001b[0m i \u001b[38;5;241m=\u001b[39m \u001b[38;5;241m0\u001b[39m\n\u001b[0;32m      7\u001b[0m \u001b[38;5;28;01mwhile\u001b[39;00m i \u001b[38;5;241m<\u001b[39m \u001b[38;5;28mlen\u001b[39m(\u001b[38;5;28mself\u001b[39m\u001b[38;5;241m.\u001b[39musers):\n\u001b[1;32m----> 9\u001b[0m     \u001b[38;5;28;01mif\u001b[39;00m \u001b[38;5;28;43mself\u001b[39;49m\u001b[38;5;241;43m.\u001b[39;49m\u001b[43musers\u001b[49m\u001b[43m[\u001b[49m\u001b[43mi\u001b[49m\u001b[43m]\u001b[49m\u001b[38;5;241;43m.\u001b[39;49m\u001b[43musername\u001b[49m \u001b[38;5;241m>\u001b[39m user\u001b[38;5;241m.\u001b[39musername:\n\u001b[0;32m     10\u001b[0m         \u001b[38;5;28;01mbreak\u001b[39;00m\n\u001b[0;32m     11\u001b[0m     i \u001b[38;5;241m+\u001b[39m\u001b[38;5;241m=\u001b[39m\u001b[38;5;241m1\u001b[39m\n",
      "\u001b[1;31mAttributeError\u001b[0m: 'str' object has no attribute 'username'"
     ]
    }
   ],
   "source": [
    "database.insert(arun)"
   ]
  },
  {
   "cell_type": "code",
   "execution_count": null,
   "id": "103380a0",
   "metadata": {},
   "outputs": [],
   "source": [
    "# Test Case 1: 3x3 Matrix\n",
    "matrix1 = [\n",
    "    [1, 2, 3],\n",
    "    [4, 5, 6],\n",
    "    [7, 8, 9]\n",
    "]\n",
    "assert spiral_order(matrix1) == [1, 2, 3, 6, 9, 8, 7, 4, 5]\n",
    "\n",
    "# Test Case 2: 4x4 Matrix\n",
    "matrix2 = [\n",
    "    [1, 2, 3, 4],\n",
    "    [5, 6, 7, 8],\n",
    "    [9, 10, 11, 12],\n",
    "    [13, 14, 15, 16]\n",
    "]\n",
    "assert spiral_order(matrix2) == [1, 2, 3, 4, 8, 12, 16, 15, 14, 13, 9, 5, 6, 7, 11, 10]\n",
    "\n",
    "# Test Case 3: 2x3 Matrix\n",
    "matrix3 = [\n",
    "    [1, 2, 3],\n",
    "    [4, 5, 6]\n",
    "]\n",
    "assert spiral_order(matrix3) == [1, 2, 3, 6, 5, 4]\n",
    "\n",
    "# Test Case 4: 3x2 Matrix\n",
    "matrix4 = [\n",
    "    [1, 2],\n",
    "    [3, 4],\n",
    "    [5, 6]\n",
    "]\n",
    "assert spiral_order(matrix4) == [1, 2, 4, 6, 5, 3]\n",
    "\n",
    "# Test Case 5: 1x1 Matrix (Single Element)\n",
    "matrix5 = [\n",
    "    [7]\n",
    "]\n",
    "assert spiral_order(matrix5) == [7]\n",
    "\n",
    "# Test Case 6: Empty Matrix\n",
    "matrix6 = []\n",
    "assert spiral_order(matrix6) == []\n",
    "\n",
    "# Test Case 7: 1x4 Matrix\n",
    "matrix7 = [\n",
    "    [1, 2, 3, 4]\n",
    "]\n",
    "assert spiral_order(matrix7) == [1, 2, 3, 4]\n"
   ]
  }
 ],
 "metadata": {
  "kernelspec": {
   "display_name": "Python 3 (ipykernel)",
   "language": "python",
   "name": "python3"
  },
  "language_info": {
   "codemirror_mode": {
    "name": "ipython",
    "version": 3
   },
   "file_extension": ".py",
   "mimetype": "text/x-python",
   "name": "python",
   "nbconvert_exporter": "python",
   "pygments_lexer": "ipython3",
   "version": "3.9.12"
  }
 },
 "nbformat": 4,
 "nbformat_minor": 5
}
