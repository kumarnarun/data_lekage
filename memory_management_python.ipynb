{
 "cells": [
  {
   "cell_type": "code",
   "execution_count": 6,
   "id": "bba67095",
   "metadata": {},
   "outputs": [],
   "source": [
    "import sys"
   ]
  },
  {
   "cell_type": "code",
   "execution_count": 1,
   "id": "85c7219b",
   "metadata": {},
   "outputs": [
    {
     "data": {
      "text/plain": [
       "2075934812592"
      ]
     },
     "execution_count": 1,
     "metadata": {},
     "output_type": "execute_result"
    }
   ],
   "source": [
    "a = 5\n",
    "id(a)"
   ]
  },
  {
   "cell_type": "code",
   "execution_count": 2,
   "id": "694d28e8",
   "metadata": {},
   "outputs": [
    {
     "data": {
      "text/plain": [
       "2076023248640"
      ]
     },
     "execution_count": 2,
     "metadata": {},
     "output_type": "execute_result"
    }
   ],
   "source": [
    "a = [1,2,3]\n",
    "id(a)"
   ]
  },
  {
   "cell_type": "code",
   "execution_count": 3,
   "id": "358561c0",
   "metadata": {},
   "outputs": [],
   "source": [
    "b = a"
   ]
  },
  {
   "cell_type": "code",
   "execution_count": 4,
   "id": "34caa54b",
   "metadata": {},
   "outputs": [],
   "source": [
    "del a"
   ]
  },
  {
   "cell_type": "code",
   "execution_count": 5,
   "id": "11f27d16",
   "metadata": {},
   "outputs": [],
   "source": [
    "b = None"
   ]
  },
  {
   "cell_type": "code",
   "execution_count": 15,
   "id": "babdf8b8",
   "metadata": {},
   "outputs": [
    {
     "name": "stdout",
     "output_type": "stream",
     "text": [
      "47532\n"
     ]
    }
   ],
   "source": [
    "print(sys.getrefcount(b))"
   ]
  },
  {
   "cell_type": "code",
   "execution_count": 16,
   "id": "d084d146",
   "metadata": {},
   "outputs": [],
   "source": [
    "import gc"
   ]
  },
  {
   "cell_type": "code",
   "execution_count": 22,
   "id": "bfbbd95a",
   "metadata": {},
   "outputs": [],
   "source": [
    "class Node:\n",
    "    def __init__(self):\n",
    "        self.next = None"
   ]
  },
  {
   "cell_type": "code",
   "execution_count": 23,
   "id": "af21faf3",
   "metadata": {},
   "outputs": [
    {
     "data": {
      "text/plain": [
       "10"
      ]
     },
     "execution_count": 23,
     "metadata": {},
     "output_type": "execute_result"
    }
   ],
   "source": [
    "node1 = Node()\n",
    "node2 = Node()\n",
    "node1.next = node2\n",
    "node2.next = node1\n",
    "gc.collect()"
   ]
  },
  {
   "cell_type": "code",
   "execution_count": 24,
   "id": "e555e2f8",
   "metadata": {},
   "outputs": [
    {
     "data": {
      "text/plain": [
       "0"
      ]
     },
     "execution_count": 24,
     "metadata": {},
     "output_type": "execute_result"
    }
   ],
   "source": [
    "gc.collect()"
   ]
  },
  {
   "cell_type": "code",
   "execution_count": 29,
   "id": "8f5e6d3c",
   "metadata": {},
   "outputs": [],
   "source": [
    "list1 = bytearray([1,5,6,True])"
   ]
  },
  {
   "cell_type": "code",
   "execution_count": 30,
   "id": "f23454c6",
   "metadata": {},
   "outputs": [],
   "source": [
    "mv = memoryview(list1)"
   ]
  },
  {
   "cell_type": "code",
   "execution_count": 40,
   "id": "543ed9a6",
   "metadata": {},
   "outputs": [],
   "source": [
    "mv[0] = 2"
   ]
  },
  {
   "cell_type": "code",
   "execution_count": 43,
   "id": "2b7c3d36",
   "metadata": {},
   "outputs": [
    {
     "data": {
      "text/plain": [
       "bytearray(b'\\x02\\x05\\x06\\x01')"
      ]
     },
     "execution_count": 43,
     "metadata": {},
     "output_type": "execute_result"
    }
   ],
   "source": [
    "list1"
   ]
  },
  {
   "cell_type": "code",
   "execution_count": 44,
   "id": "cb2305e5",
   "metadata": {},
   "outputs": [],
   "source": [
    "def generate_numbers(n):\n",
    "    for i in range(n):\n",
    "        yield i"
   ]
  },
  {
   "cell_type": "code",
   "execution_count": 45,
   "id": "1192b51b",
   "metadata": {},
   "outputs": [],
   "source": [
    "gen = generate_numbers(10)"
   ]
  },
  {
   "cell_type": "code",
   "execution_count": 48,
   "id": "4bc59086",
   "metadata": {},
   "outputs": [
    {
     "name": "stdout",
     "output_type": "stream",
     "text": [
      "0\n",
      "1\n",
      "2\n",
      "3\n",
      "4\n",
      "5\n",
      "6\n",
      "7\n",
      "8\n",
      "9\n"
     ]
    }
   ],
   "source": [
    "for num in gen:\n",
    "    print(num)"
   ]
  },
  {
   "cell_type": "code",
   "execution_count": 49,
   "id": "7b4bfccb",
   "metadata": {},
   "outputs": [],
   "source": [
    "import tracemalloc"
   ]
  },
  {
   "cell_type": "code",
   "execution_count": 50,
   "id": "d736ab61",
   "metadata": {},
   "outputs": [],
   "source": [
    "tracemalloc.start()"
   ]
  },
  {
   "cell_type": "code",
   "execution_count": 51,
   "id": "94ebe610",
   "metadata": {},
   "outputs": [],
   "source": [
    "data = [2]*1000000"
   ]
  },
  {
   "cell_type": "code",
   "execution_count": 52,
   "id": "05309573",
   "metadata": {},
   "outputs": [],
   "source": [
    "snapshot = tracemalloc.take_snapshot()"
   ]
  },
  {
   "cell_type": "code",
   "execution_count": null,
   "id": "0b71ef55",
   "metadata": {},
   "outputs": [],
   "source": [
    "top_stats = snapshot.statistics('lineno')"
   ]
  },
  {
   "cell_type": "code",
   "execution_count": 56,
   "id": "8dd19473",
   "metadata": {},
   "outputs": [
    {
     "data": {
      "text/plain": [
       "5"
      ]
     },
     "execution_count": 56,
     "metadata": {},
     "output_type": "execute_result"
    }
   ],
   "source": [
    "a = 5\n",
    "int(a)"
   ]
  },
  {
   "cell_type": "code",
   "execution_count": 57,
   "id": "bae42d91",
   "metadata": {},
   "outputs": [
    {
     "ename": "AttributeError",
     "evalue": "'int' object has no attribute 'isdigit'",
     "output_type": "error",
     "traceback": [
      "\u001b[1;31m---------------------------------------------------------------------------\u001b[0m",
      "\u001b[1;31mAttributeError\u001b[0m                            Traceback (most recent call last)",
      "Input \u001b[1;32mIn [57]\u001b[0m, in \u001b[0;36m<cell line: 1>\u001b[1;34m()\u001b[0m\n\u001b[1;32m----> 1\u001b[0m \u001b[43ma\u001b[49m\u001b[38;5;241;43m.\u001b[39;49m\u001b[43misdigit\u001b[49m()\n",
      "\u001b[1;31mAttributeError\u001b[0m: 'int' object has no attribute 'isdigit'"
     ]
    }
   ],
   "source": [
    "a.isdigit()"
   ]
  },
  {
   "cell_type": "code",
   "execution_count": 61,
   "id": "a8d48468",
   "metadata": {},
   "outputs": [],
   "source": [
    "n = 5"
   ]
  },
  {
   "cell_type": "code",
   "execution_count": 65,
   "id": "96f7f715",
   "metadata": {},
   "outputs": [],
   "source": [
    "a = []\n",
    "for i in range(n):\n",
    "    a.append(i)"
   ]
  },
  {
   "cell_type": "code",
   "execution_count": 70,
   "id": "c18bc56b",
   "metadata": {},
   "outputs": [
    {
     "name": "stdout",
     "output_type": "stream",
     "text": [
      "01234\n"
     ]
    }
   ],
   "source": [
    "print(('').join(str(num) for num in a))"
   ]
  },
  {
   "cell_type": "code",
   "execution_count": 1,
   "id": "1e7de703",
   "metadata": {},
   "outputs": [],
   "source": [
    "first_max = second_max = float('-inf')"
   ]
  },
  {
   "cell_type": "code",
   "execution_count": 3,
   "id": "f5a2b68c",
   "metadata": {},
   "outputs": [
    {
     "data": {
      "text/plain": [
       "float"
      ]
     },
     "execution_count": 3,
     "metadata": {},
     "output_type": "execute_result"
    }
   ],
   "source": [
    "type(first_max)"
   ]
  },
  {
   "cell_type": "code",
   "execution_count": 4,
   "id": "4a386047",
   "metadata": {},
   "outputs": [
    {
     "name": "stdout",
     "output_type": "stream",
     "text": [
      "Second highest element: 4\n"
     ]
    }
   ],
   "source": [
    "def find_second_highest(arr):\n",
    "    if len(arr) < 2:\n",
    "        return \"Array should have at least two elements.\"\n",
    "\n",
    "    first_max = second_max = float('-inf')\n",
    "\n",
    "    for num in arr:\n",
    "        if num > first_max:\n",
    "            second_max = first_max\n",
    "            first_max = num\n",
    "        elif num > second_max and num != first_max:\n",
    "            second_max = num\n",
    "\n",
    "    if second_max == float('-inf'):\n",
    "        return \"There is no second highest element.\"\n",
    "\n",
    "    return second_max\n",
    "\n",
    "# Example usage:\n",
    "arr = [1, 3, 2, 3, 4, 4, 5, 5]\n",
    "result = find_second_highest(arr)\n",
    "print(\"Second highest element:\", result)\n"
   ]
  }
 ],
 "metadata": {
  "kernelspec": {
   "display_name": "Python 3 (ipykernel)",
   "language": "python",
   "name": "python3"
  },
  "language_info": {
   "codemirror_mode": {
    "name": "ipython",
    "version": 3
   },
   "file_extension": ".py",
   "mimetype": "text/x-python",
   "name": "python",
   "nbconvert_exporter": "python",
   "pygments_lexer": "ipython3",
   "version": "3.9.12"
  }
 },
 "nbformat": 4,
 "nbformat_minor": 5
}
